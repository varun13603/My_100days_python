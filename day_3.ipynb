{
 "cells": [
  {
   "cell_type": "markdown",
   "id": "2cea8b08-75df-4411-b41b-3f53216017cb",
   "metadata": {},
   "source": [
    "## Control Flow"
   ]
  },
  {
   "cell_type": "code",
   "execution_count": 35,
   "id": "83452e0b-69ea-424c-951a-a1570b8f8de9",
   "metadata": {},
   "outputs": [
    {
     "name": "stdout",
     "output_type": "stream",
     "text": [
      "Welcome to rollercoaster\n"
     ]
    },
    {
     "name": "stdin",
     "output_type": "stream",
     "text": [
      "what is your height in cm?  125\n"
     ]
    },
    {
     "name": "stdout",
     "output_type": "stream",
     "text": [
      "Ride it\n"
     ]
    },
    {
     "name": "stdin",
     "output_type": "stream",
     "text": [
      "What is your age? 47\n"
     ]
    },
    {
     "name": "stdout",
     "output_type": "stream",
     "text": [
      "Your tickets are Free\n"
     ]
    },
    {
     "name": "stdin",
     "output_type": "stream",
     "text": [
      "Do you want a photo? Y or N.  N\n"
     ]
    },
    {
     "name": "stdout",
     "output_type": "stream",
     "text": [
      "Your final bill is 0\n"
     ]
    }
   ],
   "source": [
    "print(\"Welcome to rollercoaster\")\n",
    "height = int(input(\"what is your height in cm? \"))\n",
    "bill = 0\n",
    "if height >= 120:\n",
    "    print(\"Ride it\")\n",
    "    age = int(input(\"What is your age?\"))\n",
    "    if age< 12:\n",
    "        bill = 5\n",
    "        print(\"child tickets are $5\")\n",
    "    elif age <= 18:\n",
    "        bill = 7\n",
    "        print(\"Youth tickets are $7\")\n",
    "    elif age >= 45 and age <= 56:\n",
    "        print(\"Your tickets are Free\")\n",
    "    else:\n",
    "        bill = 12\n",
    "        print(\"Adult tickets are $12\")\n",
    "    wants_photo = input(\"Do you want a photo? Y or N. \")\n",
    "    if wants_photo == \"Y\":\n",
    "        bill += 3\n",
    "        \n",
    "    print(f\"Your final bill is {bill}\")\n",
    "    \n",
    "else:\n",
    "    print(\"Better luck next time\")"
   ]
  },
  {
   "cell_type": "code",
   "execution_count": null,
   "id": "10b65eb6-c7f0-4309-bfb5-a6f1828ffac1",
   "metadata": {},
   "outputs": [],
   "source": []
  },
  {
   "cell_type": "markdown",
   "id": "6c27c00f-1788-45ca-8727-f799283e39cb",
   "metadata": {},
   "source": [
    "## BMI 2.0 CHALLENGE"
   ]
  },
  {
   "cell_type": "code",
   "execution_count": null,
   "id": "1fb9ad1a-9887-414c-8c68-e8ddbc361523",
   "metadata": {},
   "outputs": [],
   "source": [
    "# Write a program that interprets the Body Mass Index (BMI) based on a user's weight and height.\n",
    "\n",
    "# It should tell them the interpretation of their BMI based on the BMI value.\n",
    "\n",
    "# Under 18.5 they are underweight\n",
    "# Equal to or over 18.5 but below 25 they have a normal weight\n",
    "# Equal to or over 25 but below 30 they are slightly overweight\n",
    "# Equal to or over 30 but below 35 they are obese\n",
    "# Equal to or over 35 they are clinically obese.\n",
    "\n",
    "# Enter your height in meters e.g., 1.55\n",
    "height = float(input())\n",
    "# Enter your weight in kilograms e.g., 72\n",
    "weight = int(input())\n",
    "# 🚨 Don't change the code above 👆\n",
    "\n",
    "#Write your code below this line 👇\n",
    "BMI = (weight) / (height * height)\n",
    "\n",
    "Final_BMI = round(BMI, 2)\n",
    "\n",
    "if BMI < 18.5:\n",
    "  print(f\"Your BMI is {BMI}, you are underweight.\")\n",
    "elif BMI >= 18.5 and BMI < 25:\n",
    "  print(f\"Your BMI is {BMI}, you have a normal weight.\")\n",
    "elif BMI >= 25 and BMI < 30:\n",
    "  print(f\"Your BMI is {BMI}, you are slightly overweight.\")\n",
    "elif BMI >= 30 and BMI and BMI < 35:\n",
    "  print(f\"Your BMI is {BMI}, you are obese.\")\n",
    "else:\n",
    "  print(f\"Your BMI is {BMI}, you are clincially obese.\")"
   ]
  },
  {
   "cell_type": "markdown",
   "id": "441bff25-e828-44f4-b753-f5811693c551",
   "metadata": {},
   "source": [
    "## LEAP YEAR CHALLENGE"
   ]
  },
  {
   "cell_type": "code",
   "execution_count": 11,
   "id": "8cd22486-ed8c-4db9-8666-8b17ee356575",
   "metadata": {},
   "outputs": [],
   "source": [
    "\n",
    "# Write a program that works out whether if a given year is a leap year. A normal year has 365 days, leap years have 366, with an extra day in February. The reason why we have leap years is really fascinating, this video does it more justice.\n",
    "\n",
    "# This is how you work out whether if a particular year is a leap year.\n",
    "\n",
    "# on every year that is divisible by 4 with no remainder\n",
    "\n",
    "# except every year that is evenly divisible by 100 with no remainder\n",
    "\n",
    "# unless the year is also divisible by 400 with no remainder \n",
    "# Which year do you want to check?\n",
    "\n",
    "year = int(input())\n",
    "# 🚨 Don't change the code above 👆\n",
    "\n",
    "# Write your code below this line 👇\n",
    "if year % 4 == 0 :\n",
    "  if year % 100 == 0:\n",
    "    if year % 400 == 0:\n",
    "      print(\"Leap year\")\n",
    "    else:\n",
    "      print(\"Not leap year\")\n",
    "  else:\n",
    "    print(\"Leap year\")\n",
    "else:\n",
    "  print(\"Not leap year\")"
   ]
  },
  {
   "cell_type": "markdown",
   "id": "39a43279-99a0-4dc3-8703-4c4394a7226c",
   "metadata": {},
   "source": [
    "## pizzs order challenge"
   ]
  },
  {
   "cell_type": "code",
   "execution_count": 17,
   "id": "2abb84f8-aa5e-457f-8c11-d1a0b0ef919c",
   "metadata": {},
   "outputs": [
    {
     "name": "stdout",
     "output_type": "stream",
     "text": [
      "Thank you for choosing Python Pizza Deliveries!\n"
     ]
    },
    {
     "name": "stdin",
     "output_type": "stream",
     "text": [
      " L\n",
      " Y\n",
      " Y\n"
     ]
    },
    {
     "name": "stdout",
     "output_type": "stream",
     "text": [
      "Your final bill is: $29.\n"
     ]
    }
   ],
   "source": [
    "# Congratulations, you've got a job at Python Pizza! Your first job is to build an automatic pizza order program.\n",
    "\n",
    "# Based on a user's order, work out their final bill.\n",
    "\n",
    "# Small pizza (S): $15\n",
    "\n",
    "# Medium pizza (M): $20\n",
    "\n",
    "# Large pizza (L): $25\n",
    "\n",
    "# Add pepperoni for small pizza (Y or N): +$2\n",
    "\n",
    "# Add pepperoni for medium or large pizza (Y or N): +$3\n",
    "\n",
    "# Add extra cheese for any size pizza (Y or N): +$1\n",
    "\n",
    "# Example Input\n",
    "# L\n",
    "# Y\n",
    "# N\n",
    "# Example Output\n",
    "# Thank you for choosing Python Pizza Deliveries!\n",
    "# Your final bill is: $28.\n",
    "\n",
    "print(\"Thank you for choosing Python Pizza Deliveries!\")\n",
    "size = input() # What size pizza do you want? S, M, or L\n",
    "add_pepperoni = input() # Do you want pepperoni? Y or N\n",
    "extra_cheese = input() # Do you want extra cheese? Y or N\n",
    "# 🚨 Don't change the code above 👆\n",
    "# Write your code below this line 👇\n",
    "bill = 0\n",
    "if size == \"S\":\n",
    "  bill += 15\n",
    "elif size == \"M\":\n",
    "  bill += 20\n",
    "elif size == \"L\":\n",
    "  bill += 25\n",
    "\n",
    "if add_pepperoni == \"Y\":\n",
    "  if size == \"S\":\n",
    "    bill += 2\n",
    "  else:\n",
    "    bill += 3\n",
    "\n",
    "if extra_cheese == \"Y\":\n",
    "  bill += 1\n",
    "  \n",
    "print(f\"Your final bill is: ${bill}.\")"
   ]
  },
  {
   "cell_type": "markdown",
   "id": "5f8c0087-5565-4076-bb49-1a0abc095d7f",
   "metadata": {},
   "source": [
    "## Logical Operations"
   ]
  },
  {
   "cell_type": "code",
   "execution_count": 32,
   "id": "832cc04b-49eb-4a54-bfaa-697a39f55f7c",
   "metadata": {},
   "outputs": [
    {
     "name": "stdout",
     "output_type": "stream",
     "text": [
      "True\n",
      "False\n",
      "True\n",
      "False\n"
     ]
    }
   ],
   "source": [
    "# and, or, not\n",
    "#and both conditions should be true\n",
    "a = 12\n",
    "print(a > 10 and a < 13)\n",
    "print(a > 10 and a > 15)\n",
    "#or atleast one condition must be true\n",
    "print(a > 10 or a > 15)\n",
    "#not true become false, flase become true\n",
    "print(not a > 10)"
   ]
  },
  {
   "cell_type": "code",
   "execution_count": 29,
   "id": "bc98176a-9bfc-4ca8-941c-45a3c29231df",
   "metadata": {},
   "outputs": [
    {
     "name": "stdout",
     "output_type": "stream",
     "text": [
      "53\n",
      "53\n"
     ]
    }
   ],
   "source": [
    "# You are going to write a program that tests the compatibility between two people.\n",
    "\n",
    "# To work out the love score between two people:\n",
    "\n",
    "# Take both people's names and check for the number of times the letters in the word TRUE occurs.\n",
    "\n",
    "# Then check for the number of times the letters in the word LOVE occurs.\n",
    "\n",
    "# Then combine these numbers to make a 2 digit number.\n",
    "\n",
    "# For Love Scores less than 10 or greater than 90, the message should be:\n",
    "\n",
    "# \"Your score is *x*, you go together like coke and mentos.\"\n",
    "# For Love Scores between 40 and 50, the message should be:\n",
    "\n",
    "# \"Your score is *y*, you are alright together.\"\n",
    "# Otherwise, the message will just be their score. e.g.:\n",
    "\n",
    "# \"Your score is *z*.\"\n",
    "# e.g.\n",
    "\n",
    "# name1 = \"Angela Yu\"\n",
    "# name2 = \"Jack Bauer\"\n",
    "# T occurs 0 times\n",
    "\n",
    "# R occurs 1 time\n",
    "\n",
    "# U occurs 2 times\n",
    "\n",
    "# E occurs 2 times\n",
    "\n",
    "# Total = 5\n",
    "\n",
    "# L occurs 1 time\n",
    "\n",
    "# O occurs 0 times\n",
    "\n",
    "# V occurs 0 times\n",
    "\n",
    "# E occurs 2 times\n",
    "\n",
    "# Total = 3\n",
    "\n",
    "# Love Score = 53\n",
    "\n",
    "# Print: \"Your score is 53.\"\n",
    "\n",
    "print(\"The Love Calculator is calculating your score...\")\n",
    "name1 = input() # What is your name?\n",
    "name2 = input() # What is their name?\n",
    "# 🚨 Don't change the code above 👆\n",
    "# Write your code below this line 👇\n",
    "true = 0\n",
    "love = 0\n",
    "name1 = name1.lower()\n",
    "name2 = name2.lower()\n",
    "T1 = name1.count(\"t\")\n",
    "T2 = name2.count(\"t\")\n",
    "R1 = name1.count(\"r\")\n",
    "R2 = name2.count(\"r\")\n",
    "U1 = name1.count(\"u\")\n",
    "U2 = name2.count(\"u\")\n",
    "E1 = name1.count(\"e\")\n",
    "E2 = name2.count(\"e\")\n",
    "\n",
    "true = T1 + T2 + R1 + R2 + U1 + U2 + E1 + E2\n",
    "\n",
    "L1 = name1.count(\"l\")\n",
    "L2 = name2.count(\"l\")\n",
    "O1 = name1.count(\"o\")\n",
    "O2 = name2.count(\"o\")\n",
    "V1 = name1.count(\"v\")\n",
    "V2 = name2.count(\"v\")\n",
    "E1 = name1.count(\"e\")\n",
    "E2 = name2.count(\"e\")\n",
    "\n",
    "love = L1 + L2 + O1 + O2 + V1 + V2 + E1 + E2\n",
    "\n",
    "final = str(true) + str(love)\n",
    "love_score = int(final)\n",
    "\n",
    "if love_score < 10 or love_score > 90:\n",
    "  print(f\"Your score is {love_score}, you go together like coke and mentos.\")\n",
    "elif love_score >= 40 and love_score <= 50:\n",
    "  print(f\"Your score is {love_score}, you are alright together.\")\n",
    "else:\n",
    "  print(f\"Your score is {love_score}.\")\n",
    "\n"
   ]
  },
  {
   "cell_type": "code",
   "execution_count": 31,
   "id": "0c52aca4-2753-439e-88d3-4b611dcb45e7",
   "metadata": {},
   "outputs": [
    {
     "name": "stdout",
     "output_type": "stream",
     "text": [
      "The Love Calculator is calculating your score...\n"
     ]
    },
    {
     "name": "stdin",
     "output_type": "stream",
     "text": [
      " varun\n",
      " someone\n"
     ]
    },
    {
     "name": "stdout",
     "output_type": "stream",
     "text": [
      "Your score is 45, you are alright together.\n"
     ]
    }
   ],
   "source": [
    "#or combine both names at start\n",
    "\n",
    "print(\"The Love Calculator is calculating your score...\")\n",
    "name1 = input() # What is your name?\n",
    "name2 = input() # What is their name?\n",
    "# 🚨 Don't change the code above 👆\n",
    "# Write your code below this line 👇\n",
    "true = 0\n",
    "love = 0\n",
    "name1 = name1.lower()\n",
    "name2 = name2.lower()\n",
    "name = name1 + name2\n",
    "T1 = name.count(\"t\")\n",
    "R1 = name.count(\"r\")\n",
    "U1 = name.count(\"u\")\n",
    "E1 = name.count(\"e\")\n",
    "\n",
    "true = T1 + R1 + U1 + E1\n",
    "\n",
    "L1 = name.count(\"l\")\n",
    "O1 = name.count(\"o\")\n",
    "V1 = name.count(\"v\")\n",
    "E1 = name.count(\"e\")\n",
    "\n",
    "love = L1 + O1 + V1 + E1\n",
    "\n",
    "final = str(true) + str(love)\n",
    "love_score = int(final)\n",
    "\n",
    "if love_score < 10 or love_score > 90:\n",
    "  print(f\"Your score is {love_score}, you go together like coke and mentos.\")\n",
    "elif love_score >= 40 and love_score <= 50:\n",
    "  print(f\"Your score is {love_score}, you are alright together.\")\n",
    "else:\n",
    "  print(f\"Your score is {love_score}.\")\n"
   ]
  },
  {
   "cell_type": "markdown",
   "id": "04b86b36-7a81-41fc-bd78-b51edca4af58",
   "metadata": {},
   "source": [
    "## DAY3 FINAL PROJECT TRESURE ISLAND"
   ]
  },
  {
   "cell_type": "code",
   "execution_count": 18,
   "id": "da24d87f-8986-41b3-b44e-9b64c29f9337",
   "metadata": {},
   "outputs": [
    {
     "name": "stdout",
     "output_type": "stream",
     "text": [
      "\n",
      "*******************************************************************************\n",
      "          |                   |                  |                     |\n",
      " _________|________________.=\"\"_;=.______________|_____________________|_______\n",
      "|                   |  ,-\"_,=\"\"     `\"=.|                  |\n",
      "|___________________|__\"=._o`\"-._        `\"=.______________|___________________\n",
      "          |                `\"=._o`\"=._      _`\"=._                     |\n",
      " _________|_____________________:=._o \"=._.\"_.-=\"'\"=.__________________|_______\n",
      "|                   |    __.--\" , ; `\"=._o.\" ,-\"\"\"-._ \".   |\n",
      "|___________________|_._\"  ,. .` ` `` ,  `\"-._\"-._   \". '__|___________________\n",
      "          |           |o`\"=._` , \"` `; .\". ,  \"-._\"-._; ;              |\n",
      " _________|___________| ;`-.o`\"=._; .\" ` '`.\"\\` . \"-._ /_______________|_______\n",
      "|                   | |o;    `\"-.o`\"=._``  '` \" ,__.--o;   |\n",
      "|___________________|_| ;     (#) `-.o `\"=.`_.--\"_o.-; ;___|___________________\n",
      "____/______/______/___|o;._    \"      `\".o|o_.--\"    ;o;____/______/______/____\n",
      "/______/______/______/_\"=._o--._        ; | ;        ; ;/______/______/______/_\n",
      "____/______/______/______/__\"=._o--._   ;o|o;     _._;o;____/______/______/____\n",
      "/______/______/______/______/____\"=._o._; | ;_.--\"o.--\"_/______/______/______/_\n",
      "____/______/______/______/______/_____\"=.o|o_.--\"\"___/______/______/______/____\n",
      "/______/______/______/______/______/______/______/______/______/______/_____ /\n",
      "*******************************************************************************\n",
      "\n",
      "Welcome to Treasure Island.\n",
      "Your mission is to find the treasure.\n"
     ]
    },
    {
     "name": "stdin",
     "output_type": "stream",
     "text": [
      "Left or Right? right\n"
     ]
    },
    {
     "name": "stdout",
     "output_type": "stream",
     "text": [
      "Fall into a hole Game Over\n"
     ]
    }
   ],
   "source": [
    "print('''\n",
    "*******************************************************************************\n",
    "          |                   |                  |                     |\n",
    " _________|________________.=\"\"_;=.______________|_____________________|_______\n",
    "|                   |  ,-\"_,=\"\"     `\"=.|                  |\n",
    "|___________________|__\"=._o`\"-._        `\"=.______________|___________________\n",
    "          |                `\"=._o`\"=._      _`\"=._                     |\n",
    " _________|_____________________:=._o \"=._.\"_.-=\"'\"=.__________________|_______\n",
    "|                   |    __.--\" , ; `\"=._o.\" ,-\"\"\"-._ \".   |\n",
    "|___________________|_._\"  ,. .` ` `` ,  `\"-._\"-._   \". '__|___________________\n",
    "          |           |o`\"=._` , \"` `; .\". ,  \"-._\"-._; ;              |\n",
    " _________|___________| ;`-.o`\"=._; .\" ` '`.\"\\` . \"-._ /_______________|_______\n",
    "|                   | |o;    `\"-.o`\"=._``  '` \" ,__.--o;   |\n",
    "|___________________|_| ;     (#) `-.o `\"=.`_.--\"_o.-; ;___|___________________\n",
    "____/______/______/___|o;._    \"      `\".o|o_.--\"    ;o;____/______/______/____\n",
    "/______/______/______/_\"=._o--._        ; | ;        ; ;/______/______/______/_\n",
    "____/______/______/______/__\"=._o--._   ;o|o;     _._;o;____/______/______/____\n",
    "/______/______/______/______/____\"=._o._; | ;_.--\"o.--\"_/______/______/______/_\n",
    "____/______/______/______/______/_____\"=.o|o_.--\"\"___/______/______/______/____\n",
    "/______/______/______/______/______/______/______/______/______/______/_____ /\n",
    "*******************************************************************************\n",
    "''')\n",
    "print(\"Welcome to Treasure Island.\")\n",
    "print(\"Your mission is to find the treasure.\") \n",
    "\n",
    "#https://www.draw.io/?lightbox=1&highlight=0000ff&edit=_blank&layers=1&nav=1&title=Treasure%20Island%20Conditional.drawio#Uhttps%3A%2F%2Fdrive.google.com%2Fuc%3Fid%3D1oDe4ehjWZipYRsVfeAx2HyB7LCQ8_Fvi%26export%3Ddownload\n",
    "\n",
    "#Write your code below this line 👇\n",
    "\n",
    "user_input = input(\"Left or Right?\")\n",
    "direction = user_input.lower()\n",
    "\n",
    "if direction == \"left\":\n",
    "    user_input2 = input(\"swim or wait\")\n",
    "    direction2 = user_input2.lower()\n",
    "    if direction2 == \"wait\":\n",
    "        user_input3 = input(\"which door red, blue or red\")\n",
    "        direction3 = user_input3.lower()\n",
    "        if direction3 == \"red\":\n",
    "            print(\"Burned by fire Game Over\")\n",
    "        elif direction3 == \"blue\":\n",
    "            print(\"Eaten by beasts Game Over\")\n",
    "        elif direction3 == \"yellow\":\n",
    "            print(\"You Win!\")\n",
    "        else:\n",
    "            print(\"Game over\")\n",
    "    else:\n",
    "        print(\"Attacked by trout Game Over\")\n",
    "else:\n",
    "    print(\"Fall into a hole Game Over\")"
   ]
  },
  {
   "cell_type": "code",
   "execution_count": null,
   "id": "e23a50fc-79ac-4495-87ed-50a32009fc44",
   "metadata": {},
   "outputs": [],
   "source": [
    "\n"
   ]
  }
 ],
 "metadata": {
  "kernelspec": {
   "display_name": "Python 3 (ipykernel)",
   "language": "python",
   "name": "python3"
  },
  "language_info": {
   "codemirror_mode": {
    "name": "ipython",
    "version": 3
   },
   "file_extension": ".py",
   "mimetype": "text/x-python",
   "name": "python",
   "nbconvert_exporter": "python",
   "pygments_lexer": "ipython3",
   "version": "3.11.9"
  }
 },
 "nbformat": 4,
 "nbformat_minor": 5
}

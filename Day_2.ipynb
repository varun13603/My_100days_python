{
 "cells": [
  {
   "cell_type": "markdown",
   "id": "9008df38-4bcf-4e07-abf6-3732461bbc88",
   "metadata": {},
   "source": [
    "## Data Types"
   ]
  },
  {
   "cell_type": "code",
   "execution_count": 2,
   "id": "d5ee64c3-bfb8-4cc0-9df9-991cc4c50c9d",
   "metadata": {},
   "outputs": [
    {
     "name": "stdout",
     "output_type": "stream",
     "text": [
      "H\n",
      "123345\n"
     ]
    }
   ],
   "source": [
    "# String\n",
    "\n",
    "print(\"Hello\"[0]) \n",
    "\n",
    "print(\"123\" + \"345\")"
   ]
  },
  {
   "cell_type": "code",
   "execution_count": 4,
   "id": "66b70d50-2f4c-4909-aa4c-9909fc9c418b",
   "metadata": {},
   "outputs": [
    {
     "name": "stdout",
     "output_type": "stream",
     "text": [
      "10\n",
      "15\n"
     ]
    }
   ],
   "source": [
    "#Integer\n",
    "\n",
    "#numbers without any decimals\n",
    "\n",
    "print(1 + 4 + 5)\n",
    "\n",
    "print(1_2 + 3) # _ is considered as comma that is nothing"
   ]
  },
  {
   "cell_type": "code",
   "execution_count": 7,
   "id": "dcd0551d-74a1-4dea-9a2d-3b4cfb7dc83c",
   "metadata": {},
   "outputs": [
    {
     "name": "stdout",
     "output_type": "stream",
     "text": [
      "<class 'float'>\n"
     ]
    }
   ],
   "source": [
    "#Float\n",
    "#floating point number\n",
    "\n",
    "print(type(3.141))\n"
   ]
  },
  {
   "cell_type": "code",
   "execution_count": 8,
   "id": "35aee365-36f5-4773-b44f-59ee05b60e98",
   "metadata": {},
   "outputs": [
    {
     "data": {
      "text/plain": [
       "False"
      ]
     },
     "execution_count": 8,
     "metadata": {},
     "output_type": "execute_result"
    }
   ],
   "source": [
    "#Boolean \n",
    "True\n",
    "False\n"
   ]
  },
  {
   "cell_type": "code",
   "execution_count": 10,
   "id": "d08bc05b-8de3-4d45-834c-4c19dc8dc7c6",
   "metadata": {},
   "outputs": [
    {
     "name": "stdin",
     "output_type": "stream",
     "text": [
      "What is your name? varun\n"
     ]
    },
    {
     "name": "stdout",
     "output_type": "stream",
     "text": [
      "your name has 5 characters\n"
     ]
    }
   ],
   "source": [
    "num_char = len(input(\"What is your name?\"))\n",
    "#we cant concate str and int so we convert int to str\n",
    "\n",
    "new_num_char = str(num_char)\n",
    "\n",
    "print(\"your name has \" + new_num_char + \" characters\") "
   ]
  },
  {
   "cell_type": "code",
   "execution_count": 13,
   "id": "03194578-ae7c-4326-a060-e2dcc5d1b546",
   "metadata": {},
   "outputs": [
    {
     "name": "stdout",
     "output_type": "stream",
     "text": [
      "<class 'str'>\n",
      "70100\n",
      "170.75\n"
     ]
    }
   ],
   "source": [
    "a = str(123)\n",
    "print(type(a))\n",
    "\n",
    "print(str(70) + str(100))\n",
    "print(70 + float(100.75))"
   ]
  },
  {
   "cell_type": "code",
   "execution_count": 16,
   "id": "ff24a893-dc98-45dd-9e5c-a0f29f6e0189",
   "metadata": {},
   "outputs": [
    {
     "name": "stdin",
     "output_type": "stream",
     "text": [
      " 39\n"
     ]
    },
    {
     "name": "stdout",
     "output_type": "stream",
     "text": [
      "12\n"
     ]
    }
   ],
   "source": [
    "# Write a program that adds the digits in a 2 digit number. e.g. if the input was 35, then the output should be 3 + 5 = 8\n",
    "\n",
    "# Warning. Do not change the code on line 1. Your program should work for different inputs. e.g. any two-digit number.\n",
    "\n",
    "# The last line of your program should print the result.\n",
    "\n",
    "# Example 1 Input\n",
    "# 39\n",
    "\n",
    "# Example 1 Output\n",
    "# 12\n",
    "\n",
    "two_digit_number = input()\n",
    "\n",
    "num1 = int(two_digit_number[0])\n",
    "num2 = int(two_digit_number[1])\n",
    "\n",
    "print(num1 + num2)"
   ]
  },
  {
   "cell_type": "markdown",
   "id": "175b9a4a-0a1a-4121-b093-e3452d2d4520",
   "metadata": {},
   "source": [
    "## Mathematical Operations"
   ]
  },
  {
   "cell_type": "code",
   "execution_count": 5,
   "id": "b91419b0-e6ed-4387-bc3d-458c21e52a87",
   "metadata": {},
   "outputs": [
    {
     "name": "stdout",
     "output_type": "stream",
     "text": [
      "8\n",
      "4\n",
      "6\n",
      "2.0\n",
      "8\n",
      "3.0\n"
     ]
    }
   ],
   "source": [
    "print(3 + 5)\n",
    "print(7 - 3)\n",
    "print(3 * 2)\n",
    "print(6 / 3)\n",
    "print(2 ** 3) # 2 power 3\n",
    "\n",
    "# PEMDAS Rule :\n",
    "# Parentheses  ()\n",
    "# Exponents  ** \n",
    "# Multiplication  * / both mul and div equally prioratized one which of left will be considered first\n",
    "# divison  /\n",
    "# Addition + \n",
    "# Subtraction -\n",
    "\n",
    "print(3 * 3 / 3 + 3 - 3)"
   ]
  },
  {
   "cell_type": "code",
   "execution_count": 6,
   "id": "b4fa3b37-2a56-4655-be91-21fd576a7a41",
   "metadata": {},
   "outputs": [
    {
     "name": "stdin",
     "output_type": "stream",
     "text": [
      " 1.65\n",
      " 72\n"
     ]
    },
    {
     "name": "stdout",
     "output_type": "stream",
     "text": [
      "26\n"
     ]
    }
   ],
   "source": [
    "# 1st input: enter height in meters e.g: 1.65\n",
    "height = input()\n",
    "# 2nd input: enter weight in kilograms e.g: 72\n",
    "weight = input()\n",
    "# 🚨 Don't change the code above 👆\n",
    "\n",
    "# Write your code below this line 👇\n",
    "\n",
    "int_height = float(height)\n",
    "int_weight = float(weight)\n",
    "BMI = (int_weight) / (int_height * int_height)\n",
    "\n",
    "print(int(BMI))"
   ]
  },
  {
   "cell_type": "code",
   "execution_count": 14,
   "id": "00b29ba6-5690-490d-82fb-94a84df9ac08",
   "metadata": {},
   "outputs": [
    {
     "name": "stdout",
     "output_type": "stream",
     "text": [
      "2.6666666666666665\n",
      "3\n",
      "2.67\n",
      "2\n",
      "1.0\n",
      "1\n"
     ]
    }
   ],
   "source": [
    "# Number manipulation and f strings in python\n",
    "print(8 / 3)\n",
    "print(round(8 / 3))\n",
    "print(round(2.66666, 2))\n",
    "\n",
    "print(8 // 3) #integer as result\n",
    "\n",
    "result = 4 / 2\n",
    "result /= 2\n",
    "print(result)\n",
    "\n",
    "score = 0\n",
    "score += 1\n",
    "print(score)"
   ]
  },
  {
   "cell_type": "code",
   "execution_count": 3,
   "id": "b7f44e82-88d7-4751-9c82-a80dec3f57c5",
   "metadata": {},
   "outputs": [
    {
     "name": "stdout",
     "output_type": "stream",
     "text": [
      "Your score is 0\n",
      "your score is 0, your height is 1.8, you are winning is True\n"
     ]
    }
   ],
   "source": [
    "#f strings\n",
    "\n",
    "score = 0\n",
    "height = 1.8\n",
    "isWinning = True\n",
    "\n",
    "print(\"Your score is \"+ str(score))\n",
    "\n",
    "print(f\"your score is {score}, your height is {height}, you are winning is {isWinning}\")"
   ]
  },
  {
   "cell_type": "code",
   "execution_count": 6,
   "id": "fc1fb972-ee1f-4071-8c06-3633b7949b13",
   "metadata": {},
   "outputs": [
    {
     "name": "stdout",
     "output_type": "stream",
     "text": [
      "Welcome to the tip calculator!\n"
     ]
    },
    {
     "name": "stdin",
     "output_type": "stream",
     "text": [
      "what was the total bill? 124.56\n",
      "how much tip would you like to give? 12\n",
      "how many people are spliting the bill? 7\n"
     ]
    },
    {
     "name": "stdout",
     "output_type": "stream",
     "text": [
      "139.5072\n",
      "19.93\n"
     ]
    }
   ],
   "source": [
    "#Day 2 Project\n",
    "#bill & Tip spilter\n",
    "print(\"Welcome to the tip calculator!\")\n",
    "total_bill = float(input(\"what was the total bill?\"))\n",
    "tip = int(input(\"how much tip would you like to give?\"))\n",
    "people = int(input(\"how many people are spliting the bill?\"))\n",
    "\n",
    "total_tip = total_bill + (total_bill / 100) * tip\n",
    "pay = round(total_tip / people, 2)\n",
    "\n",
    "print(total_tip)\n",
    "print(pay)"
   ]
  },
  {
   "cell_type": "code",
   "execution_count": null,
   "id": "efa23ccd-d0ca-4d01-8e5b-12573a0b0e64",
   "metadata": {},
   "outputs": [],
   "source": []
  }
 ],
 "metadata": {
  "kernelspec": {
   "display_name": "Python 3 (ipykernel)",
   "language": "python",
   "name": "python3"
  },
  "language_info": {
   "codemirror_mode": {
    "name": "ipython",
    "version": 3
   },
   "file_extension": ".py",
   "mimetype": "text/x-python",
   "name": "python",
   "nbconvert_exporter": "python",
   "pygments_lexer": "ipython3",
   "version": "3.11.7"
  }
 },
 "nbformat": 4,
 "nbformat_minor": 5
}

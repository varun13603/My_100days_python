{
 "cells": [
  {
   "cell_type": "markdown",
   "id": "e2322377-a8c4-470f-a675-b071ce19fec9",
   "metadata": {},
   "source": [
    "# random module"
   ]
  },
  {
   "cell_type": "code",
   "execution_count": 2,
   "id": "e24971f2-9abd-419b-932e-038223977e4f",
   "metadata": {},
   "outputs": [],
   "source": [
    "import random"
   ]
  },
  {
   "cell_type": "code",
   "execution_count": 3,
   "id": "fb9b060a-607f-4cd6-bf43-b056ecde7e8e",
   "metadata": {},
   "outputs": [
    {
     "name": "stdout",
     "output_type": "stream",
     "text": [
      "3\n"
     ]
    }
   ],
   "source": [
    "random_integer = random.randint(1,10)\n",
    "print(random_integer)"
   ]
  },
  {
   "cell_type": "code",
   "execution_count": 4,
   "id": "b9ededaa-3295-4bb2-af0a-4ac9b5e63abc",
   "metadata": {},
   "outputs": [
    {
     "name": "stdout",
     "output_type": "stream",
     "text": [
      "0.41805139439608274\n",
      "2.0902569719804136\n",
      "4.180513943960827\n"
     ]
    }
   ],
   "source": [
    "# generate random floating point number\n",
    "random_float = random.random()\n",
    "print(random_float)\n",
    "\n",
    "# we can expand range of random float by multiplying with a number\n",
    "print(random_float * 5) #range 0.0000 to 4.9999\n",
    "print(random_float * 10) # range from 0.0000 to 9.9999"
   ]
  },
  {
   "cell_type": "code",
   "execution_count": 5,
   "id": "32a5fbbe-1342-4283-91f5-5400c420b98c",
   "metadata": {},
   "outputs": [
    {
     "name": "stdout",
     "output_type": "stream",
     "text": [
      "Head\n"
     ]
    }
   ],
   "source": [
    "toss = random.randint(0,1)\n",
    "if toss == 1:\n",
    "  print(\"Head\")\n",
    "else:\n",
    "  print(\"Tails\")"
   ]
  },
  {
   "cell_type": "markdown",
   "id": "6ee89c87-0519-418d-bf5f-2a30fe598432",
   "metadata": {},
   "source": [
    "## List"
   ]
  },
  {
   "cell_type": "code",
   "execution_count": 7,
   "id": "6c4d3fdb-ae7c-42b4-a5a6-0038e7650727",
   "metadata": {},
   "outputs": [
    {
     "name": "stdout",
     "output_type": "stream",
     "text": [
      "['mango', 'apple', 'orange']\n",
      "mango\n",
      "apple\n",
      "orange\n",
      "apple\n",
      "mango\n"
     ]
    }
   ],
   "source": [
    "fruits = [\"mango\", \"apple\", \"orange\"]\n",
    "print(fruits)\n",
    "print(fruits[0])\n",
    "print(fruits[1])\n",
    "\n",
    "print(fruits[-1])\n",
    "print(fruits[-2])\n",
    "print(fruits[-3])\n"
   ]
  },
  {
   "cell_type": "code",
   "execution_count": 8,
   "id": "6dc25db7-b925-4183-8abc-b87f6811d234",
   "metadata": {},
   "outputs": [
    {
     "name": "stdout",
     "output_type": "stream",
     "text": [
      "['tomato', 'Beat root', 'potato', 'carrot']\n",
      "['tomato', 'Beat root', 'potato', 'carrot', 'Varun']\n",
      "['tomato', 'Beat root', 'potato', 'carrot', 'Varun', 'cucumber', 'brinjal']\n"
     ]
    }
   ],
   "source": [
    "# change items in list\n",
    "vegetables = [\"tomato\", \"beans\", \"potato\", \"carrot\"]\n",
    "\n",
    "vegetables[1] = \"Beat root\"\n",
    "\n",
    "print(vegetables)\n",
    "\n",
    "# we can add new item to list end using append\n",
    "vegetables.append(\"Varun\")\n",
    "print(vegetables)\n",
    "\n",
    "# extend\n",
    "vegetables.extend([\"cucumber\", \"brinjal\"])\n",
    "\n",
    "print(vegetables)\n"
   ]
  },
  {
   "cell_type": "code",
   "execution_count": 21,
   "id": "fe1e6db7-6c17-46aa-875f-4846373551e3",
   "metadata": {},
   "outputs": [
    {
     "name": "stdout",
     "output_type": "stream",
     "text": [
      "[['tomato', 'Beat root', 'potato', 'carrot', 'Varun', 'cucumber', 'brinjal'], ['mango', 'apple', 'orange']]\n"
     ]
    }
   ],
   "source": [
    "#index errors and working with nested list\n",
    "\n",
    "combine = [vegetables, fruits]\n",
    "\n",
    "print(combine)"
   ]
  },
  {
   "cell_type": "markdown",
   "id": "46addf81-08dc-4ace-bffa-a23d5a78e1a9",
   "metadata": {},
   "source": [
    "## BANKER ROULETTE Challenge"
   ]
  },
  {
   "cell_type": "code",
   "execution_count": 50,
   "id": "4fac3e3f-adbc-46ae-9f0d-3ad46b4c3186",
   "metadata": {},
   "outputs": [
    {
     "name": "stdout",
     "output_type": "stream",
     "text": [
      "divya is going to buy the meal today!\n"
     ]
    }
   ],
   "source": [
    "\n",
    "# You are working in a team of developers.\n",
    "# Another developer has written the code to import the names in the inputs\n",
    "# You can run the code to see what this names list looks like.\n",
    "import random\n",
    "# Then change the names in the input to see how it imports the names.\n",
    "#print(names)\n",
    "# 🚨 Remember to remove the print statement above when you submit.\n",
    "names = [\"varun\", \"divya\", \"sridevi\"]\n",
    "length_names = len(names)\n",
    "\n",
    "ran_num = random.randint(0, length_names-1)\n",
    "\n",
    "to_pay = names[ran_num]\n",
    "print(f\"{to_pay} is going to buy the meal today!\")"
   ]
  },
  {
   "cell_type": "markdown",
   "id": "8bcf2e72-7fb4-4525-8d92-55bba5516114",
   "metadata": {},
   "source": [
    "## TREASURE MAP Challenge"
   ]
  },
  {
   "cell_type": "code",
   "execution_count": 52,
   "id": "b7d1d8e0-5a72-476b-94e6-8fb04335b4d0",
   "metadata": {},
   "outputs": [
    {
     "name": "stdout",
     "output_type": "stream",
     "text": [
      "Hiding your treasure! X marks the spot.\n"
     ]
    },
    {
     "name": "stdin",
     "output_type": "stream",
     "text": [
      " A2\n"
     ]
    },
    {
     "name": "stdout",
     "output_type": "stream",
     "text": [
      "['⬜️', '️⬜️', '️⬜️']\n",
      "['X', '⬜️', '️⬜️']\n",
      "['⬜️️', '⬜️️', '⬜️️']\n"
     ]
    }
   ],
   "source": [
    "line1 = [\"⬜️\",\"️⬜️\",\"️⬜️\"]\n",
    "line2 = [\"⬜️\",\"⬜️\",\"️⬜️\"]\n",
    "line3 = [\"⬜️️\",\"⬜️️\",\"⬜️️\"]\n",
    "map = [line1, line2, line3]\n",
    "print(\"Hiding your treasure! X marks the spot.\")\n",
    "position = input() # Where do you want to put the treasure?\n",
    "# 🚨 Don't change the code above 👆\n",
    "# Write your code below this row 👇\n",
    "if position == \"A1\":\n",
    "  line1[0] = \"X\"\n",
    "  #map[0][0] = \"X\"\n",
    "elif position == \"A2\":\n",
    "  line2[0] = \"X\"\n",
    "  #map[0][1] = \"X\"\n",
    "elif position == \"A3\":\n",
    "  line3[0] = \"X\"\n",
    "  #map[0][2] = \"X\"\n",
    "elif position == \"B1\":\n",
    "  line1[1] = \"X\"\n",
    "  #map[1][0] = \"X\"\n",
    "elif position == \"B2\":\n",
    "  line2[1] = \"X\"\n",
    "  #map[1][1] = \"X\"\n",
    "elif position == \"B3\":\n",
    "  line3[1] = \"X\"\n",
    "  #map[1][2] = \"X\"\n",
    "elif position == \"C1\":\n",
    "  line1[2] = \"X\"\n",
    "  #map[2][0] = \"X\"\n",
    "elif position == \"C2\":\n",
    "  line2[2] = \"x\"\n",
    "  #map[2][1] = \"X\"\n",
    "elif position == \"C3\":\n",
    "  line3[2] = \"X\"\n",
    "  #map[2][2] = \"X\"\n",
    "else:\n",
    "  print(\"You found no gold\")\n",
    "\n",
    "# Write your code above this row 👆\n",
    "# 🚨 Don't change the code below 👇\n",
    "print(f\"{line1}\\n{line2}\\n{line3}\")\n"
   ]
  },
  {
   "cell_type": "code",
   "execution_count": 55,
   "id": "dcca0750-8e0b-4be0-88ab-8b39283ded89",
   "metadata": {},
   "outputs": [
    {
     "name": "stdout",
     "output_type": "stream",
     "text": [
      "Hiding your treasure! X marks the spot.\n"
     ]
    },
    {
     "name": "stdin",
     "output_type": "stream",
     "text": [
      " A2\n"
     ]
    },
    {
     "name": "stdout",
     "output_type": "stream",
     "text": [
      "['⬜️', '️⬜️', '️⬜️']\n",
      "['X', '⬜️', '️⬜️']\n",
      "['⬜️️', '⬜️️', '⬜️️']\n"
     ]
    }
   ],
   "source": [
    "# we can do it like this too \n",
    "\n",
    "line1 = [\"⬜️\",\"️⬜️\",\"️⬜️\"]\n",
    "line2 = [\"⬜️\",\"⬜️\",\"️⬜️\"]\n",
    "line3 = [\"⬜️️\",\"⬜️️\",\"⬜️️\"]\n",
    "map = [line1, line2, line3]\n",
    "print(\"Hiding your treasure! X marks the spot.\")\n",
    "position = input() # Where do you want to put the treasure?\n",
    "# Your code below\n",
    "letter = position[0].lower()\n",
    "abc = [\"a\", \"b\", \"c\"]\n",
    "letter_index = abc.index(letter)\n",
    "number_index = int(position[1]) - 1\n",
    "map[number_index][letter_index] = \"X\"\n",
    "\n",
    "print(f\"{line1}\\n{line2}\\n{line3}\")"
   ]
  },
  {
   "cell_type": "markdown",
   "id": "1bff08de-ad0e-4050-a4fb-afed02089014",
   "metadata": {},
   "source": [
    "## ROCK-PAPER-SCISSORS CHALLENGE"
   ]
  },
  {
   "cell_type": "code",
   "execution_count": 84,
   "id": "71949a19-d789-4b5b-b33a-a42525d02504",
   "metadata": {},
   "outputs": [
    {
     "name": "stdin",
     "output_type": "stream",
     "text": [
      "whats you choose 0 for rock, 1 for paper, 2 for scissor 2\n"
     ]
    },
    {
     "name": "stdout",
     "output_type": "stream",
     "text": [
      "2\n",
      "0\n",
      "player 1 choose \n",
      "    _______\n",
      "---'   ____)____\n",
      "          ______)\n",
      "       __________)\n",
      "      (____)\n",
      "---.__(___)\n",
      "\n",
      "player 2 choose \n",
      "    _______\n",
      "---'   ____)\n",
      "      (_____)\n",
      "      (_____)\n",
      "      (____)\n",
      "---.__(___)\n",
      "\n",
      "Robo won\n"
     ]
    }
   ],
   "source": [
    "rock = '''\n",
    "    _______\n",
    "---'   ____)\n",
    "      (_____)\n",
    "      (_____)\n",
    "      (____)\n",
    "---.__(___)\n",
    "'''\n",
    "\n",
    "paper = '''\n",
    "    _______\n",
    "---'   ____)____\n",
    "          ______)\n",
    "          _______)\n",
    "         _______)\n",
    "---.__________)\n",
    "'''\n",
    "\n",
    "scissors = '''\n",
    "    _______\n",
    "---'   ____)____\n",
    "          ______)\n",
    "       __________)\n",
    "      (____)\n",
    "---.__(___)\n",
    "'''\n",
    "\n",
    "import random\n",
    "\n",
    "player1_choice = int(input(\"whats you choose 0 for rock, 1 for paper, 2 for scissor\"))\n",
    "\n",
    "random_num = random.randint(0,2)\n",
    "\n",
    "print(player1_choice)\n",
    "print(random_num)\n",
    "\n",
    "items = [rock, paper, scissors]\n",
    "\n",
    "if player1_choice == random_num:\n",
    "    print(f\"player 1 choose {items[player1_choice]}\")\n",
    "    print(f\"player 2 choose {items[random_num]}\")\n",
    "    print(\"its draw\")\n",
    "elif player1_choice >= 3 or random_num >= 3:\n",
    "    print(\"choose only 0, 1 and 2\")\n",
    "elif player1_choice == 0 and random_num == 1:\n",
    "    print(f\"player 1 choose {items[player1_choice]}\")\n",
    "    print(f\"player 2 choose {items[random_num]}\")\n",
    "    print(\"Robo won\")\n",
    "elif player1_choice == 1 and random_num == 0:\n",
    "    print(f\"player 1 choose {items[player1_choice]}\")\n",
    "    print(f\"player 2 choose {items[random_num]}\")\n",
    "    print(\"You won\")\n",
    "elif player1_choice == 0 and random_num == 2:\n",
    "    print(f\"player 1 choose {items[player1_choice]}\")\n",
    "    print(f\"player 2 choose {items[random_num]}\")\n",
    "    print(\"You won\")\n",
    "elif player1_choice == 2 and random_num == 0:\n",
    "    print(f\"player 1 choose {items[player1_choice]}\")\n",
    "    print(f\"player 2 choose {items[random_num]}\")\n",
    "    print(\"Robo won\")\n",
    "elif player1_choice == 1 and random_num == 2:\n",
    "    print(f\"player 1 choose {items[player1_choice]}\")\n",
    "    print(f\"player 2 choose {items[random_num]}\")\n",
    "    print(\"Robo won\")\n",
    "elif player1_choice == 2 and random_num == 1:\n",
    "    print(f\"player 1 choose {items[player1_choice]}\")\n",
    "    print(f\"player 2 choose {items[random_num]}\")\n",
    "    print(\"You Won\")\n",
    "else:\n",
    "    print(\"somthing is wrong\")\n",
    "    \n",
    "    \n"
   ]
  },
  {
   "cell_type": "code",
   "execution_count": 86,
   "id": "e3895da3-f396-46bb-90be-fb9ab0c35bc9",
   "metadata": {},
   "outputs": [
    {
     "name": "stdin",
     "output_type": "stream",
     "text": [
      "What do you choose? Type 0 for Rock, 1 for Paper or 2 for Scissors.\n",
      " 0\n"
     ]
    },
    {
     "name": "stdout",
     "output_type": "stream",
     "text": [
      "\n",
      "    _______\n",
      "---'   ____)\n",
      "      (_____)\n",
      "      (_____)\n",
      "      (____)\n",
      "---.__(___)\n",
      "\n",
      "Computer chose:\n",
      "\n",
      "    _______\n",
      "---'   ____)\n",
      "      (_____)\n",
      "      (_____)\n",
      "      (____)\n",
      "---.__(___)\n",
      "\n",
      "It's a draw\n"
     ]
    }
   ],
   "source": [
    "# or most efficient way\n",
    "import random\n",
    "\n",
    "rock = '''\n",
    "    _______\n",
    "---'   ____)\n",
    "      (_____)\n",
    "      (_____)\n",
    "      (____)\n",
    "---.__(___)\n",
    "'''\n",
    "\n",
    "paper = '''\n",
    "    _______\n",
    "---'   ____)____\n",
    "          ______)\n",
    "          _______)\n",
    "         _______)\n",
    "---.__________)\n",
    "'''\n",
    "\n",
    "scissors = '''\n",
    "    _______\n",
    "---'   ____)____\n",
    "          ______)\n",
    "       __________)\n",
    "      (____)\n",
    "---.__(___)\n",
    "'''\n",
    "\n",
    "game_images = [rock, paper, scissors]\n",
    "\n",
    "user_choice = int(input(\"What do you choose? Type 0 for Rock, 1 for Paper or 2 for Scissors.\\n\"))\n",
    "print(game_images[user_choice])\n",
    "\n",
    "computer_choice = random.randint(0, 2)\n",
    "print(\"Computer chose:\")\n",
    "print(game_images[computer_choice])\n",
    "\n",
    "if user_choice >= 3 or user_choice < 0: \n",
    "  print(\"You typed an invalid number, you lose!\") \n",
    "elif user_choice == 0 and computer_choice == 2:\n",
    "  print(\"You win!\")\n",
    "elif computer_choice == 0 and user_choice == 2:\n",
    "  print(\"You lose\")\n",
    "elif computer_choice > user_choice:\n",
    "  print(\"You lose\")\n",
    "elif user_choice > computer_choice:\n",
    "  print(\"You win!\")\n",
    "elif computer_choice == user_choice:\n",
    "  print(\"It's a draw\")"
   ]
  },
  {
   "cell_type": "code",
   "execution_count": null,
   "id": "f6180240-ca42-401b-b8f5-0ba6a64d829a",
   "metadata": {},
   "outputs": [],
   "source": []
  }
 ],
 "metadata": {
  "kernelspec": {
   "display_name": "Python 3 (ipykernel)",
   "language": "python",
   "name": "python3"
  },
  "language_info": {
   "codemirror_mode": {
    "name": "ipython",
    "version": 3
   },
   "file_extension": ".py",
   "mimetype": "text/x-python",
   "name": "python",
   "nbconvert_exporter": "python",
   "pygments_lexer": "ipython3",
   "version": "3.11.9"
  }
 },
 "nbformat": 4,
 "nbformat_minor": 5
}

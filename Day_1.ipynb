{
 "cells": [
  {
   "cell_type": "code",
   "execution_count": 3,
   "id": "39f3a805-4660-4376-956d-9bdd333dc60c",
   "metadata": {},
   "outputs": [
    {
     "name": "stdout",
     "output_type": "stream",
     "text": [
      "varun\n",
      "She said: \"Hello\" and then left.\n",
      "She said: \"Hello\" and then left.\n",
      "hello Varun\n",
      "hello divya\n",
      "Hello sridevi\n",
      "hellovarun\n",
      "hello varun\n",
      "hello varun\n",
      "hello varun\n"
     ]
    }
   ],
   "source": [
    "print(\"varun\")\n",
    "print('She said: \"Hello\" and then left.')\n",
    "print(\"She said: \\\"Hello\\\" and then left.\")\n",
    "print(\"hello Varun\\nhello divya\\nHello sridevi\")\n",
    "print(\"hello\" + \"varun\")\n",
    "print(\"hello \" + \"varun\")\n",
    "print(\"hello\" + \" varun\")\n",
    "print(\"hello\" +\" \"+ \"varun\")\n"
   ]
  },
  {
   "cell_type": "markdown",
   "id": "15f34768-2c86-49c2-ab01-57ffbb44ee9e",
   "metadata": {},
   "source": [
    "## input"
   ]
  },
  {
   "cell_type": "code",
   "execution_count": 4,
   "id": "ead78def-01b9-495f-9075-4e654d0ff8dc",
   "metadata": {},
   "outputs": [
    {
     "name": "stdin",
     "output_type": "stream",
     "text": [
      "What is your name varun\n"
     ]
    },
    {
     "data": {
      "text/plain": [
       "'varun'"
      ]
     },
     "execution_count": 4,
     "metadata": {},
     "output_type": "execute_result"
    }
   ],
   "source": [
    "input(\"What is your name\")"
   ]
  },
  {
   "cell_type": "code",
   "execution_count": 5,
   "id": "0b6ead9c-6e3b-4cc7-ba6f-32dfbf008f2a",
   "metadata": {},
   "outputs": [
    {
     "name": "stdin",
     "output_type": "stream",
     "text": [
      "What is your name? varun\n"
     ]
    },
    {
     "name": "stdout",
     "output_type": "stream",
     "text": [
      "Hello varun!\n"
     ]
    }
   ],
   "source": [
    "print(\"Hello \" + input(\"What is your name?\") + \"!\")"
   ]
  },
  {
   "cell_type": "code",
   "execution_count": 6,
   "id": "c0ca8f1c-a354-42b1-8a9c-80e3b2ae2b5b",
   "metadata": {},
   "outputs": [],
   "source": [
    "# comment entire line of code use ctrl + /"
   ]
  },
  {
   "cell_type": "markdown",
   "id": "1fe2c77c-6433-4fe2-8152-521aa0e7d022",
   "metadata": {},
   "source": [
    "## Variables"
   ]
  },
  {
   "cell_type": "code",
   "execution_count": 9,
   "id": "3a8bfd9c-69e8-415d-857a-d14d7358c1be",
   "metadata": {},
   "outputs": [
    {
     "name": "stdin",
     "output_type": "stream",
     "text": [
      "What is your name jack\n"
     ]
    },
    {
     "name": "stdout",
     "output_type": "stream",
     "text": [
      "4\n",
      "jack\n"
     ]
    }
   ],
   "source": [
    "name = input(\"What is your name\")\n",
    "length = len(name)\n",
    "print(length)\n",
    "print(name)"
   ]
  },
  {
   "cell_type": "markdown",
   "id": "f14b70b4-d628-4c29-9cb1-99b3b6ba8698",
   "metadata": {},
   "source": [
    "## day 1 Project"
   ]
  },
  {
   "cell_type": "code",
   "execution_count": 12,
   "id": "34b59051-7a2b-44f0-b689-1d74177defa4",
   "metadata": {},
   "outputs": [
    {
     "name": "stdout",
     "output_type": "stream",
     "text": [
      "Welcome to the Band Name Geneator\n"
     ]
    },
    {
     "name": "stdin",
     "output_type": "stream",
     "text": [
      "whats the name of city you grew up in \n",
      " hyd\n",
      "whats the name of your pet \n",
      " pet\n"
     ]
    },
    {
     "name": "stdout",
     "output_type": "stream",
     "text": [
      "Your band name could be hyd pet\n"
     ]
    }
   ],
   "source": [
    "#1. Create a greeting for your program.\n",
    "print(\"Welcome to the Band Name Geneator\")\n",
    "#2. Ask the user for the city that they grew up in.\n",
    "city = input(\"whats the name of city you grew up in \\n\")\n",
    "\n",
    "#3. Ask the user for the name of a pet.\n",
    "pet = input(\"whats the name of your pet \\n\")\n",
    "#4. Combine the name of their city and pet and show them their band name.\n",
    "print(\"Your band name could be \" + city+ \" \" + pet )\n",
    "#5. Make sure the input cursor shows on a new line:\n",
    "\n",
    "# Solution: https://replit.com/@appbrewery/band-name-generator-end"
   ]
  },
  {
   "cell_type": "code",
   "execution_count": null,
   "id": "c65be2ff-bbef-4502-acc6-217a70a37c52",
   "metadata": {},
   "outputs": [],
   "source": []
  }
 ],
 "metadata": {
  "kernelspec": {
   "display_name": "Python 3 (ipykernel)",
   "language": "python",
   "name": "python3"
  },
  "language_info": {
   "codemirror_mode": {
    "name": "ipython",
    "version": 3
   },
   "file_extension": ".py",
   "mimetype": "text/x-python",
   "name": "python",
   "nbconvert_exporter": "python",
   "pygments_lexer": "ipython3",
   "version": "3.11.7"
  }
 },
 "nbformat": 4,
 "nbformat_minor": 5
}
